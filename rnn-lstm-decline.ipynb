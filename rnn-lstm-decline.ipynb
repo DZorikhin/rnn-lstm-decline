{
 "cells": [
  {
   "cell_type": "code",
   "execution_count": 72,
   "id": "766c7343-9eae-40ea-92c6-a5fa8a8612d4",
   "metadata": {},
   "outputs": [],
   "source": [
    "import pandas as pd\n",
    "import numpy as np\n",
    "import matplotlib.pyplot as plt\n",
    "from tensorflow.keras.models import Sequential\n",
    "from tensorflow.keras.layers import LSTM\n",
    "from tensorflow.keras.layers import Dense, Dropout\n",
    "from sklearn.preprocessing import StandardScaler\n",
    "from scipy.optimize import curve_fit\n",
    "import seaborn as sns\n",
    "\n",
    "df_production = pd.read_csv('COMPANY_BASIN_20200128 Producing Entity Monthly Production.CSV')\n",
    "\n",
    "df_production_group = df_production.groupby('Entity ID')['API/UWI'].agg(['count'])\n",
    "df_production_group.sort_values('count', ascending=False, inplace=True)\n",
    "\n",
    "well_1 = df_production_group.index[0]\n",
    "well_1_prod = df_production[df_production['Entity ID'] == well_1]"
   ]
  },
  {
   "cell_type": "code",
   "execution_count": 1,
   "id": "0fe6eeb0-9cfa-46d8-b253-ac0c12c5c261",
   "metadata": {},
   "outputs": [],
   "source": [
    "def hyperbolic_equation(t, qi, b, di):\n",
    "    return qi*((1.0+b*((-np.log(1-di))/12)*t)**(-1.0/b))\n",
    "\n",
    "def exponential_equation(t, qi, di):\n",
    "    return qi*np.exp(-di*t)"
   ]
  },
  {
   "cell_type": "code",
   "execution_count": 20,
   "id": "376bc037-10c2-4b9b-a774-dd1a4a55a54e",
   "metadata": {},
   "outputs": [],
   "source": [
    "import numpy as np\n",
    "\n",
    "def calc_effective_decline(rate):\n",
    "    '''\n",
    "    Calculates effective decline form rate\n",
    "    Input:\n",
    "        np array of (number_instances , n_month) shape - production rate\n",
    "    Retunrns \n",
    "        np array of the same shape that contains effective dicline\n",
    "    \n",
    "    '''\n",
    "    ni = rate.shape[0]\n",
    "    a = rate\n",
    "    a[a==0] = 0.000001\n",
    "    #print(np.min(a))\n",
    "    b = np.diff(a)\n",
    "    c = np.abs(1 - np.exp(-b/a[:,:-1]))\n",
    "    \n",
    "    return np.hstack([np.full(ni, np.nan).reshape(1,ni).T, c ])\n",
    "\n",
    "def rate_conditioning(rate, e_d, ip24, Df, abdn):\n",
    "    '''\n",
    "    Conditions the rate by two factors:\n",
    "        Effective decline is greated then given threshold (Df), rate decline calculates with exp quation.\n",
    "        If rate drops below abondon rate, next to zero value gets assigned.\n",
    "    Input\n",
    "        np array of (number_instances , n_month) shape - production rate, effective_dicline\n",
    "        np arrays ip24, Df, abdn - 1D with number of ellements equal to number of instances\n",
    "    Output\n",
    "        condioned rate same as input rate \n",
    "\n",
    "    '''\n",
    "    rate_1 = np.empty_like(rate)\n",
    "\n",
    "    ni = rate_1.shape[0]\n",
    "    nt = rate_1.shape[1]\n",
    "\n",
    "    rate_1[:,0] = ip24\n",
    "\n",
    "    for ix in range(1, nt, 1):\n",
    "\n",
    "        c = e_d[:, ix ] > Df/(100*12)\n",
    "        rate_1[c,ix] = rate[c,ix]\n",
    "\n",
    "        c_inv = np.invert(c)\n",
    "        rate_1[c_inv,ix] = rate_1[c_inv,ix-1] * (np.exp(-(-np.log(1-Df[c_inv]/100))/12))\n",
    "\n",
    "    abdn_m = np.repeat(abdn.reshape(1,ni),rate_1.shape[1], axis=0).T\n",
    "\n",
    "    rate_1[rate_1 <= abdn_m] = 0.000001\n",
    "    \n",
    "    return rate_1\n",
    "\n",
    "def calc_cum_prod(rate):\n",
    "    '''\n",
    "    Turn rate in to cumulative production\n",
    "    Input\n",
    "        np array of (number_instances , n_month) shape - production rate\n",
    "    Output\n",
    "        cumulative production of the same tyep/shape as input rate array\n",
    "    '''\n",
    "\n",
    "    cum_prod = np.empty_like(rate)\n",
    "    cum_prod[:,0] = 0\n",
    "    \n",
    "    rate_ls = np.roll(rate, 1)\n",
    "    \n",
    "    # check with Max\n",
    "    cum_prod[:, 1:] = (rate[:, 1:] + rate_ls[:, 1:]) * 30.42 / (2*1000)\n",
    "    cum_prod = np.cumsum(cum_prod, axis=1)\n",
    "    cum_prod[:, 0] = np.nan\n",
    "    \n",
    "    return cum_prod\n",
    "\n",
    "def calc_rate(ip24,b,Di,n_month):\n",
    "    '''\n",
    "    Clacultes rates based on hyperbolyc equation.\n",
    "    Inputs: \n",
    "        ip24,b,Di - one dimentional np.arrays number of ellements coresponds to number of rate instances\n",
    "        t - integer, number of month\n",
    "    Returns:\n",
    "        2D np array of following shape (number_instances , n_month)\n",
    "    '''    \n",
    "    t    = np.array(range(n_month))\n",
    "    ni = len(ip24)\n",
    "    \n",
    "    a = np.array(b * (-np.log(1 - (Di/100))/12)).reshape(1,ni).T\n",
    "    a = 1 + np.multiply(t, a)\n",
    "    b[b == 0] = 0.0000001\n",
    "    p = np.repeat((-1 / b).reshape(1,ni),a.shape[1], axis=0).T\n",
    "    rate_v = np.multiply (np.power(a[:,1:], p[:,1:]), ip24.reshape(1,ni).T)\n",
    "\n",
    "    return np.hstack( [ip24.reshape(1,ni).T, rate_v]), t\n",
    "\n",
    "def calc_production(ip24,b,Di,Df,abdn,NUMBER_OF_MONTH):\n",
    "    \n",
    "\n",
    "    rate, t = calc_rate(ip24,b,Di,NUMBER_OF_MONTH)\n",
    "    effective_dicline = calc_effective_decline(rate)\n",
    "    rate_1 = rate_conditioning(rate, effective_dicline, ip24, Df, abdn)\n",
    "    cum_prod = calc_cum_prod(rate_1)\n",
    "\n",
    "\n",
    "    return t, rate, effective_dicline, rate_1, cum_prod"
   ]
  },
  {
   "cell_type": "code",
   "execution_count": 21,
   "id": "685c15e5-5a05-4dc3-aad4-9f962e72c2e4",
   "metadata": {},
   "outputs": [],
   "source": [
    "def calculate_rates_from_decline(dataframe_parameters):\n",
    "    \n",
    "    hc_ip24 = np.asarray(dataframe_parameters['qi'])\n",
    "    hc_b = np.asarray(dataframe_parameters['b'])\n",
    "    hc_Di = np.asarray(dataframe_parameters['di'])\n",
    "    hc_Df = np.asarray(dataframe_parameters['d_f'])\n",
    "    hc_abdn = np.asarray(dataframe_parameters['abdn'])\n",
    "\n",
    "    min_date_production = dataframe_parameters['start_production_month'].min()\n",
    "\n",
    "    months_since_first_production = int(round((pd.to_datetime('2025-12-01')\n",
    "                                               - pd.to_datetime(min_date_production))\n",
    "                                               / np.timedelta64(1,'M')+2, 0))\n",
    "\n",
    "    (time, hc_rate_raw, hc_effective_decline, \n",
    "     hc_rate, hc_cum_prod) = calc_production(hc_ip24, hc_b, \n",
    "                                             hc_Di, hc_Df, hc_abdn, \n",
    "                                             months_since_first_production)\n",
    "    return hc_rate"
   ]
  },
  {
   "cell_type": "code",
   "execution_count": 73,
   "id": "157c99df-6a2b-45a0-9eff-7d03cf8a98ca",
   "metadata": {},
   "outputs": [
    {
     "data": {
      "text/plain": [
       "125416799"
      ]
     },
     "execution_count": 73,
     "metadata": {},
     "output_type": "execute_result"
    }
   ],
   "source": [
    "well_1"
   ]
  },
  {
   "cell_type": "code",
   "execution_count": 74,
   "id": "8101e176-de86-4666-8670-da731660a0fb",
   "metadata": {},
   "outputs": [
    {
     "data": {
      "text/plain": [
       "35145    641.67\n",
       "35146    500.48\n",
       "35147    494.77\n",
       "35148    397.47\n",
       "35149    256.74\n",
       "Name: Daily Avg Oil, dtype: float64"
      ]
     },
     "execution_count": 74,
     "metadata": {},
     "output_type": "execute_result"
    }
   ],
   "source": [
    "well_1_prod['Daily Avg Oil'].head()"
   ]
  },
  {
   "cell_type": "code",
   "execution_count": 75,
   "id": "c7225300-36f6-4c78-8f5b-5fef70c80830",
   "metadata": {},
   "outputs": [
    {
     "name": "stderr",
     "output_type": "stream",
     "text": [
      "/var/folders/83/dd1dp6cs4n5b8mt9sjqc20kh0000gn/T/ipykernel_3518/1474811272.py:2: SettingWithCopyWarning: \n",
      "A value is trying to be set on a copy of a slice from a DataFrame.\n",
      "Try using .loc[row_indexer,col_indexer] = value instead\n",
      "\n",
      "See the caveats in the documentation: https://pandas.pydata.org/pandas-docs/stable/user_guide/indexing.html#returning-a-view-versus-a-copy\n",
      "  well_1_prod['Months_Online'] = list(range(0, len(well_1_prod)))\n"
     ]
    }
   ],
   "source": [
    "# Generate month_online column for decline calculation\n",
    "well_1_prod['Months_Online'] = list(range(0, len(well_1_prod)))"
   ]
  },
  {
   "cell_type": "code",
   "execution_count": 76,
   "id": "7320cbe0-6390-4a7e-943e-2394c3bfeb50",
   "metadata": {},
   "outputs": [
    {
     "name": "stderr",
     "output_type": "stream",
     "text": [
      "/var/folders/83/dd1dp6cs4n5b8mt9sjqc20kh0000gn/T/ipykernel_3518/2323057701.py:1: SettingWithCopyWarning: \n",
      "A value is trying to be set on a copy of a slice from a DataFrame.\n",
      "Try using .loc[row_indexer,col_indexer] = value instead\n",
      "\n",
      "See the caveats in the documentation: https://pandas.pydata.org/pandas-docs/stable/user_guide/indexing.html#returning-a-view-versus-a-copy\n",
      "  well_1_prod['Months_Online_Shifted'] = (well_1_prod.Months_Online.shift(0, axis=0))\n"
     ]
    }
   ],
   "source": [
    "well_1_prod['Months_Online_Shifted'] = (well_1_prod.Months_Online.shift(0, axis=0))"
   ]
  },
  {
   "cell_type": "code",
   "execution_count": 77,
   "id": "84a762bd-39b6-4b47-ad5a-896b3b05078c",
   "metadata": {},
   "outputs": [],
   "source": [
    "popt_hyp, pcov_hyp = curve_fit(hyperbolic_equation, \n",
    "                               well_1_prod['Months_Online_Shifted'].iloc[0:len(well_1_prod['Months_Online_Shifted'])-6], \n",
    "                               well_1_prod['Daily Avg Oil'].iloc[0:len(well_1_prod['Months_Online_Shifted'])-6], \n",
    "                                                   bounds=([0, 0.1, 0], [650,2,0.99]))"
   ]
  },
  {
   "cell_type": "code",
   "execution_count": 78,
   "id": "ea244dc0-0463-440a-8aa0-ae54c4a6053b",
   "metadata": {},
   "outputs": [
    {
     "data": {
      "text/plain": [
       "array([650.        ,   1.09512533,   0.95423967])"
      ]
     },
     "execution_count": 78,
     "metadata": {},
     "output_type": "execute_result"
    }
   ],
   "source": [
    "popt_hyp"
   ]
  },
  {
   "cell_type": "code",
   "execution_count": 79,
   "id": "6249beb2-e0e1-4439-8717-145f28febc53",
   "metadata": {},
   "outputs": [
    {
     "data": {
      "text/plain": [
       "array([[6.87934842e+02, 8.54082778e-01, 3.61333872e-01],\n",
       "       [8.54082778e-01, 6.58771843e-03, 1.23667849e-03],\n",
       "       [3.61333872e-01, 1.23667849e-03, 3.37262619e-04]])"
      ]
     },
     "execution_count": 79,
     "metadata": {},
     "output_type": "execute_result"
    }
   ],
   "source": [
    "pcov_hyp"
   ]
  },
  {
   "cell_type": "code",
   "execution_count": 80,
   "id": "601f0967-1faa-48a0-a6bb-ec39dd0bfaff",
   "metadata": {},
   "outputs": [],
   "source": [
    "(time, hc_rate_raw, \n",
    " hc_effective_decline, hc_rate, hc_cum_prod) = calc_production(np.array([popt_hyp[0]]), \n",
    "                                                               np.array([popt_hyp[1]]), \n",
    "                                                               np.array([popt_hyp[2]*100]), \n",
    "                                                               np.array([7.]),\n",
    "                                                               np.array([1.]), \n",
    "                                                               117)"
   ]
  },
  {
   "cell_type": "code",
   "execution_count": 81,
   "id": "d9aeacdb-a009-42c9-8ed9-f7954067518c",
   "metadata": {},
   "outputs": [
    {
     "data": {
      "text/plain": [
       "array([650.        , 518.27260403, 432.32792547, 371.65822896,\n",
       "       326.45208978, 291.41302468, 263.42520515, 240.53345514,\n",
       "       221.44757576, 205.28107774, 191.40431469, 179.35748905,\n",
       "       168.79683456, 159.46007898, 151.14357297, 143.68672679,\n",
       "       136.96116492, 130.86300803, 125.30727698, 120.22376701,\n",
       "       115.55395988, 111.24868091, 107.26629932, 103.57132995,\n",
       "       100.13333562,  96.92605706,  93.92671737,  91.11546111,\n",
       "        88.47489881,  85.98973424,  83.64645749,  81.43309063,\n",
       "        79.33897576,  77.35459734,  75.47143256,  73.68182469,\n",
       "        71.97887535,  70.35635258,  68.80861189,  67.33052844,\n",
       "        65.91743827,  64.56508752,  63.26958807,  62.02737896,\n",
       "        60.83519252,  59.6900247 ,  58.58910887,  57.52989275,\n",
       "        56.51001797,  55.52730191,  54.57972155,  53.66539912,\n",
       "        52.78258922,  51.92966731,  51.10511941,  50.30753278,\n",
       "        49.53558757,  48.78804932,  48.06376206,  47.36164223,\n",
       "        46.680673  ,  46.01989924,  45.37842287,  44.75539865,\n",
       "        44.15003033,  43.56156715,  42.9893006 ,  42.43256151,\n",
       "        41.89071732,  41.3631696 ,  40.8493518 ,  40.34872709,\n",
       "        39.86078649,  39.38504705,  38.92105018,  38.46836017,\n",
       "        38.02656274,  37.59526376,  37.17408801,  36.76267807,\n",
       "        36.36069327,  35.96780871,  35.58371437,  35.20811423,\n",
       "        34.84072552,  34.48127799,  34.12951318,  33.78518381,\n",
       "        33.44805317,  33.11789459,  32.79449085,  32.47763374,\n",
       "        32.16712358,  31.86276879,  31.56438548,  31.27179705,\n",
       "        30.98483385,  30.70333285,  30.4271373 ,  30.15609641,\n",
       "        29.89006511,  29.62890378,  29.37247793,  29.12065807,\n",
       "        28.87331937,  28.63034153,  28.39160854,  28.15700851,\n",
       "        27.92643347,  27.69977919,  27.47694506,  27.25783388,\n",
       "        27.04235176,  26.83040798,  26.62191479,  26.4167874 ,\n",
       "        26.21494374])"
      ]
     },
     "execution_count": 81,
     "metadata": {},
     "output_type": "execute_result"
    }
   ],
   "source": [
    "hc_rate.flatten()"
   ]
  },
  {
   "cell_type": "code",
   "execution_count": 82,
   "id": "232ad0c7-b05f-404a-bf3a-5b20c4c7ba4d",
   "metadata": {},
   "outputs": [
    {
     "name": "stderr",
     "output_type": "stream",
     "text": [
      "/var/folders/83/dd1dp6cs4n5b8mt9sjqc20kh0000gn/T/ipykernel_3518/560235367.py:1: SettingWithCopyWarning: \n",
      "A value is trying to be set on a copy of a slice from a DataFrame.\n",
      "Try using .loc[row_indexer,col_indexer] = value instead\n",
      "\n",
      "See the caveats in the documentation: https://pandas.pydata.org/pandas-docs/stable/user_guide/indexing.html#returning-a-view-versus-a-copy\n",
      "  well_1_prod['decline'] = hc_rate.flatten()\n"
     ]
    }
   ],
   "source": [
    "well_1_prod['decline'] = hc_rate.flatten()"
   ]
  },
  {
   "cell_type": "code",
   "execution_count": 83,
   "id": "25ecb387-7e3b-4214-b976-4e82bd5f42de",
   "metadata": {},
   "outputs": [
    {
     "data": {
      "text/plain": [
       "<AxesSubplot:xlabel='Months_Online_Shifted', ylabel='decline'>"
      ]
     },
     "execution_count": 83,
     "metadata": {},
     "output_type": "execute_result"
    },
    {
     "data": {
      "image/png": "[encoded data removed]",
      "text/plain": [
       "<Figure size 1080x1080 with 1 Axes>"
      ]
     },
     "metadata": {
      "needs_background": "light"
     },
     "output_type": "display_data"
    }
   ],
   "source": [
    "fig = plt.figure(figsize=(15, 15))\n",
    "sns.lineplot(data = well_1_prod, x='Months_Online_Shifted', y='decline', color='red')\n",
    "sns.lineplot(data = well_1_prod, x='Months_Online_Shifted', y='Daily Avg Oil', color='blue')"
   ]
  },
  {
   "cell_type": "code",
   "execution_count": 84,
   "id": "1165b9e5-0d02-4997-b603-9d6bcd434c32",
   "metadata": {},
   "outputs": [
    {
     "data": {
      "text/html": [
       "<div>\n",
       "<style scoped>\n",
       "    .dataframe tbody tr th:only-of-type {\n",
       "        vertical-align: middle;\n",
       "    }\n",
       "\n",
       "    .dataframe tbody tr th {\n",
       "        vertical-align: top;\n",
       "    }\n",
       "\n",
       "    .dataframe thead th {\n",
       "        text-align: right;\n",
       "    }\n",
       "</style>\n",
       "<table border=\"1\" class=\"dataframe\">\n",
       "  <thead>\n",
       "    <tr style=\"text-align: right;\">\n",
       "      <th></th>\n",
       "      <th>Daily Avg Oil</th>\n",
       "      <th>decline</th>\n",
       "    </tr>\n",
       "  </thead>\n",
       "  <tbody>\n",
       "    <tr>\n",
       "      <th>35256</th>\n",
       "      <td>30.33</td>\n",
       "      <td>27.257834</td>\n",
       "    </tr>\n",
       "    <tr>\n",
       "      <th>35257</th>\n",
       "      <td>29.81</td>\n",
       "      <td>27.042352</td>\n",
       "    </tr>\n",
       "    <tr>\n",
       "      <th>35258</th>\n",
       "      <td>31.17</td>\n",
       "      <td>26.830408</td>\n",
       "    </tr>\n",
       "    <tr>\n",
       "      <th>35259</th>\n",
       "      <td>32.43</td>\n",
       "      <td>26.621915</td>\n",
       "    </tr>\n",
       "    <tr>\n",
       "      <th>35260</th>\n",
       "      <td>30.29</td>\n",
       "      <td>26.416787</td>\n",
       "    </tr>\n",
       "    <tr>\n",
       "      <th>35261</th>\n",
       "      <td>26.63</td>\n",
       "      <td>26.214944</td>\n",
       "    </tr>\n",
       "  </tbody>\n",
       "</table>\n",
       "</div>"
      ],
      "text/plain": [
       "       Daily Avg Oil    decline\n",
       "35256          30.33  27.257834\n",
       "35257          29.81  27.042352\n",
       "35258          31.17  26.830408\n",
       "35259          32.43  26.621915\n",
       "35260          30.29  26.416787\n",
       "35261          26.63  26.214944"
      ]
     },
     "execution_count": 84,
     "metadata": {},
     "output_type": "execute_result"
    }
   ],
   "source": [
    "well_1_prod[['Daily Avg Oil', 'decline']].tail(6)"
   ]
  },
  {
   "cell_type": "code",
   "execution_count": 90,
   "id": "c1a41316-b3c3-4440-9e77-7241e05fb5f4",
   "metadata": {},
   "outputs": [],
   "source": [
    "metric = well_1_prod['Daily Avg Oil'].tail(6) - well_1_prod['decline'].tail(6)"
   ]
  },
  {
   "cell_type": "code",
   "execution_count": 96,
   "id": "f39fb189-c896-4d6f-8440-820bca861b86",
   "metadata": {},
   "outputs": [
    {
     "data": {
      "text/plain": [
       "3.7602757367095667"
      ]
     },
     "execution_count": 96,
     "metadata": {},
     "output_type": "execute_result"
    }
   ],
   "source": [
    "np.sqrt((metric.values**2).sum() / 6)"
   ]
  },
  {
   "cell_type": "code",
   "execution_count": 98,
   "id": "7601fe0b-2a71-486e-aa20-960e8dbb47b0",
   "metadata": {},
   "outputs": [],
   "source": [
    "acc = (well_1_prod['decline'].tail(6).sum() * 100) / well_1_prod['Daily Avg Oil'].tail(6).sum()"
   ]
  },
  {
   "cell_type": "code",
   "execution_count": 99,
   "id": "615320ce-dfbc-4e7b-8d9a-e9a6c07f4a5a",
   "metadata": {},
   "outputs": [
    {
     "data": {
      "text/plain": [
       "88.7768402265032"
      ]
     },
     "execution_count": 99,
     "metadata": {},
     "output_type": "execute_result"
    }
   ],
   "source": [
    "acc"
   ]
  },
  {
   "cell_type": "code",
   "execution_count": 100,
   "id": "fc396db6-4297-4005-89aa-55a4627f3303",
   "metadata": {},
   "outputs": [],
   "source": [
    "train_dates = pd.to_datetime(well_1_prod['Monthly Production Date'])\n",
    "train_values = well_1_prod['Daily Avg Oil'].astype(float).values.reshape(-1, 1)"
   ]
  },
  {
   "cell_type": "code",
   "execution_count": 101,
   "id": "24b2edab-472e-4097-ad06-406b222588b3",
   "metadata": {},
   "outputs": [
    {
     "data": {
      "text/plain": [
       "[<matplotlib.lines.Line2D at 0x7fb6605cf640>]"
      ]
     },
     "execution_count": 101,
     "metadata": {},
     "output_type": "execute_result"
    },
    {
     "data": {
      "image/png": "[encoded data removed]",
      "text/plain": [
       "<Figure size 432x288 with 1 Axes>"
      ]
     },
     "metadata": {
      "needs_background": "light"
     },
     "output_type": "display_data"
    }
   ],
   "source": [
    "scaler = StandardScaler()\n",
    "scaler = scaler.fit(train_values)\n",
    "train_values_scaled = scaler.transform(train_values)\n",
    "train_values_scaled_t = train_values_scaled[2:]\n",
    "\n",
    "plt.plot(well_1_prod['Monthly Production Date'].values[2:], train_values_scaled_t)"
   ]
  },
  {
   "cell_type": "code",
   "execution_count": 158,
   "id": "48fc3b22-4a06-47ba-af1d-37ccfa8b9bec",
   "metadata": {},
   "outputs": [],
   "source": [
    "trainX = []\n",
    "trainY = []\n",
    "\n",
    "n_future = 1\n",
    "n_past = 12\n",
    "\n",
    "for i in range(n_past, len(train_values_scaled_t) - n_future +1):\n",
    "    trainX.append(train_values_scaled_t[i - n_past:i])\n",
    "    trainY.append(train_values_scaled_t[i + n_future - 1:i + n_future])\n",
    "    \n",
    "trainX, trainY = np.array(trainX), np.array(trainY)"
   ]
  },
  {
   "cell_type": "code",
   "execution_count": 159,
   "id": "0811be7c-65f0-4a43-bdf5-496ecd3ba41a",
   "metadata": {},
   "outputs": [
    {
     "name": "stdout",
     "output_type": "stream",
     "text": [
      "trainX shape == (103, 12, 1).\n",
      "trainY shape == (103, 1, 1).\n"
     ]
    }
   ],
   "source": [
    "print('trainX shape == {}.'.format(trainX.shape))\n",
    "print('trainY shape == {}.'.format(trainY.shape))"
   ]
  },
  {
   "cell_type": "code",
   "execution_count": 160,
   "id": "4b178ded-42f8-4fef-aaab-b30de41ef550",
   "metadata": {},
   "outputs": [
    {
     "name": "stdout",
     "output_type": "stream",
     "text": [
      "Model: \"sequential_12\"\n",
      "_________________________________________________________________\n",
      "Layer (type)                 Output Shape              Param #   \n",
      "=================================================================\n",
      "lstm_24 (LSTM)               (None, 12, 64)            16896     \n",
      "_________________________________________________________________\n",
      "lstm_25 (LSTM)               (None, 32)                12416     \n",
      "_________________________________________________________________\n",
      "dropout_12 (Dropout)         (None, 32)                0         \n",
      "_________________________________________________________________\n",
      "dense_12 (Dense)             (None, 1)                 33        \n",
      "=================================================================\n",
      "Total params: 29,345\n",
      "Trainable params: 29,345\n",
      "Non-trainable params: 0\n",
      "_________________________________________________________________\n",
      "Epoch 1/5\n",
      "6/6 [==============================] - 2s 56ms/step - loss: 0.1312 - val_loss: 0.2555\n",
      "Epoch 2/5\n",
      "6/6 [==============================] - 0s 10ms/step - loss: 0.1011 - val_loss: 0.1858\n",
      "Epoch 3/5\n",
      "6/6 [==============================] - 0s 9ms/step - loss: 0.0753 - val_loss: 0.1110\n",
      "Epoch 4/5\n",
      "6/6 [==============================] - 0s 9ms/step - loss: 0.0436 - val_loss: 0.0296\n",
      "Epoch 5/5\n",
      "6/6 [==============================] - 0s 9ms/step - loss: 0.0309 - val_loss: 0.0018\n"
     ]
    }
   ],
   "source": [
    "model = Sequential()\n",
    "model.add(LSTM(64, activation='relu', input_shape=(trainX.shape[1], trainX.shape[2]), return_sequences=True))\n",
    "model.add(LSTM(32, activation='relu', return_sequences=False))\n",
    "model.add(Dropout(0.2))\n",
    "model.add(Dense(trainY.shape[1]))\n",
    "\n",
    "model.compile(optimizer='adam', loss='mse')\n",
    "model.summary()\n",
    "\n",
    "history = model.fit(trainX, trainY, epochs=5, batch_size=16, validation_split=0.1, verbose=1)"
   ]
  },
  {
   "cell_type": "code",
   "execution_count": 161,
   "id": "f4dbd88f-cdf3-4da4-b463-5226cdbd42c1",
   "metadata": {},
   "outputs": [
    {
     "data": {
      "text/plain": [
       "<matplotlib.legend.Legend at 0x7fb66c0bd790>"
      ]
     },
     "execution_count": 161,
     "metadata": {},
     "output_type": "execute_result"
    },
    {
     "data": {
      "image/png": "[encoded data removed]",
      "text/plain": [
       "<Figure size 432x288 with 1 Axes>"
      ]
     },
     "metadata": {
      "needs_background": "light"
     },
     "output_type": "display_data"
    }
   ],
   "source": [
    "plt.plot(history.history['loss'], label='Training loss')\n",
    "plt.plot(history.history['val_loss'], label='Validation loss')\n",
    "plt.legend()"
   ]
  },
  {
   "cell_type": "code",
   "execution_count": 162,
   "id": "507da9b1-8f8b-440a-9a53-0ddc7758d3ff",
   "metadata": {},
   "outputs": [
    {
     "name": "stderr",
     "output_type": "stream",
     "text": [
      "/Users/zorikhin/anaconda3/envs/ds/lib/python3.9/site-packages/seaborn/_decorators.py:36: FutureWarning: Pass the following variables as keyword args: x, y. From version 0.12, the only valid positional argument will be `data`, and passing other arguments without an explicit keyword will result in an error or misinterpretation.\n",
      "  warnings.warn(\n",
      "/Users/zorikhin/anaconda3/envs/ds/lib/python3.9/site-packages/seaborn/_decorators.py:36: FutureWarning: Pass the following variables as keyword args: x, y. From version 0.12, the only valid positional argument will be `data`, and passing other arguments without an explicit keyword will result in an error or misinterpretation.\n",
      "  warnings.warn(\n",
      "/Users/zorikhin/anaconda3/envs/ds/lib/python3.9/site-packages/seaborn/_decorators.py:36: FutureWarning: Pass the following variables as keyword args: x, y. From version 0.12, the only valid positional argument will be `data`, and passing other arguments without an explicit keyword will result in an error or misinterpretation.\n",
      "  warnings.warn(\n"
     ]
    },
    {
     "data": {
      "text/plain": [
       "<AxesSubplot:xlabel='Date', ylabel='Production'>"
      ]
     },
     "execution_count": 162,
     "metadata": {},
     "output_type": "execute_result"
    },
    {
     "data": {
      "image/png": "[encoded data removed]",
      "text/plain": [
       "<Figure size 432x288 with 1 Axes>"
      ]
     },
     "metadata": {
      "needs_background": "light"
     },
     "output_type": "display_data"
    }
   ],
   "source": [
    "prediction = model.predict(trainX[-6:])\n",
    "y_pred_future = scaler.inverse_transform(prediction)\n",
    "\n",
    "df_forecast = pd.DataFrame({'Date':train_dates.iloc[-6:].values, 'Production':y_pred_future.reshape(1, -1).flatten()})\n",
    "df_forecast['Date']=pd.to_datetime(df_forecast['Date'])\n",
    "\n",
    "df_original = pd.DataFrame({'Date':train_dates.iloc[-6:].values, 'Production':train_values[-6:].reshape(1, -1).flatten()})\n",
    "df_original['Date']=pd.to_datetime(df_forecast['Date'])\n",
    "\n",
    "sns.lineplot(df_original['Date'], df_original['Production'], color='blue')\n",
    "sns.lineplot(df_forecast['Date'], df_forecast['Production'], color='red')\n",
    "sns.lineplot(df_forecast['Date'], well_1_prod['decline'].tail(6).values, color='green')"
   ]
  },
  {
   "cell_type": "code",
   "execution_count": 163,
   "id": "547d7721-669a-4680-894c-62d8b23a5b19",
   "metadata": {},
   "outputs": [],
   "source": [
    "acc_2 = (df_forecast['Production'].sum() * 100) / df_original['Production'].sum()"
   ]
  },
  {
   "cell_type": "code",
   "execution_count": 164,
   "id": "a7eee03e-2c18-4d95-a5c3-187c27781796",
   "metadata": {},
   "outputs": [
    {
     "data": {
      "text/plain": [
       "85.4824880791914"
      ]
     },
     "execution_count": 164,
     "metadata": {},
     "output_type": "execute_result"
    }
   ],
   "source": [
    "acc_2"
   ]
  },
  {
   "cell_type": "code",
   "execution_count": null,
   "id": "9ed417d4-05dd-4619-a842-7c4f75608d8b",
   "metadata": {},
   "outputs": [],
   "source": []
  }
 ],
 "metadata": {
  "kernelspec": {
   "display_name": "Python 3 (ipykernel)",
   "language": "python",
   "name": "python3"
  },
  "language_info": {
   "codemirror_mode": {
    "name": "ipython",
    "version": 3
   },
   "file_extension": ".py",
   "mimetype": "text/x-python",
   "name": "python",
   "nbconvert_exporter": "python",
   "pygments_lexer": "ipython3",
   "version": "3.9.6"
  }
 },
 "nbformat": 4,
 "nbformat_minor": 5
}
